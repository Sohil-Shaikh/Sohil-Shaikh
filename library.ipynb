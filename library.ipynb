{
  "nbformat": 4,
  "nbformat_minor": 0,
  "metadata": {
    "colab": {
      "provenance": [],
      "authorship_tag": "ABX9TyMn5sgFS+cRvaWaVVywBhSB",
      "include_colab_link": true
    },
    "kernelspec": {
      "name": "python3",
      "display_name": "Python 3"
    },
    "language_info": {
      "name": "python"
    }
  },
  "cells": [
    {
      "cell_type": "markdown",
      "metadata": {
        "id": "view-in-github",
        "colab_type": "text"
      },
      "source": [
        "<a href=\"https://colab.research.google.com/github/Sohil-Shaikh/Sohil-Shaikh/blob/main/library.ipynb\" target=\"_parent\"><img src=\"https://colab.research.google.com/assets/colab-badge.svg\" alt=\"Open In Colab\"/></a>"
      ]
    },
    {
      "cell_type": "markdown",
      "source": [
        "# import library"
      ],
      "metadata": {
        "id": "s04RS3nSH2P7"
      }
    },
    {
      "cell_type": "code",
      "execution_count": 1,
      "metadata": {
        "id": "FtEFZzSiHIlP"
      },
      "outputs": [],
      "source": [
        "import pandas as pd"
      ]
    },
    {
      "cell_type": "markdown",
      "source": [
        "# read command seperated value (csv) file"
      ],
      "metadata": {
        "id": "PfstFyaOH_yi"
      }
    },
    {
      "cell_type": "code",
      "source": [
        "titanic_csv = pd.read_csv('https://github.com/YBIFoundation/Dataset/raw/main/Titanic.csv')\n"
      ],
      "metadata": {
        "id": "3bhB-7cHH9Am"
      },
      "execution_count": 4,
      "outputs": []
    },
    {
      "cell_type": "code",
      "source": [
        "titanic_csv.head()"
      ],
      "metadata": {
        "id": "75azH1hFJm9W"
      },
      "execution_count": null,
      "outputs": []
    },
    {
      "cell_type": "markdown",
      "source": [
        "# read semicolon seperated (csv) file"
      ],
      "metadata": {
        "id": "K_aTl9JYJ6tg"
      }
    },
    {
      "cell_type": "code",
      "source": [
        "titanic_semicolon = pd.read_csv('https://github.com/YBIFoundation/Dataset/raw/main/Titanic.csv',sep=';')\n"
      ],
      "metadata": {
        "id": "MH1mz33DKjec"
      },
      "execution_count": 6,
      "outputs": []
    },
    {
      "cell_type": "code",
      "source": [
        "titanic_semicolon.head()"
      ],
      "metadata": {
        "id": "WPBDWxbkLEMU"
      },
      "execution_count": null,
      "outputs": []
    },
    {
      "cell_type": "markdown",
      "source": [
        "# read text file"
      ],
      "metadata": {
        "id": "lqIGAe8-LUWp"
      }
    },
    {
      "cell_type": "code",
      "source": [
        "titanic_text = pd.read_csv('https://github.com/YBIFoundation/Dataset/raw/main/Titanic.txt')"
      ],
      "metadata": {
        "id": "_sg-PMnNLXxb"
      },
      "execution_count": 9,
      "outputs": []
    },
    {
      "cell_type": "code",
      "source": [
        "titanic_text.head()"
      ],
      "metadata": {
        "id": "ZJJ5dMBmMKoT"
      },
      "execution_count": null,
      "outputs": []
    },
    {
      "cell_type": "markdown",
      "source": [
        "# read excel file"
      ],
      "metadata": {
        "id": "3cVwygHRMvDD"
      }
    },
    {
      "cell_type": "code",
      "source": [
        "titanic_excel = pd.read_excel('https://github.com/YBIFoundation/Dataset/raw/main/Titanic.xlsx',sheet_name=0)"
      ],
      "metadata": {
        "id": "_Eu8jGhrMygx"
      },
      "execution_count": 13,
      "outputs": []
    },
    {
      "cell_type": "code",
      "source": [
        "titanic_excel.head()"
      ],
      "metadata": {
        "id": "HMa9O24ENdPm"
      },
      "execution_count": null,
      "outputs": []
    },
    {
      "cell_type": "markdown",
      "source": [
        "# read json file"
      ],
      "metadata": {
        "id": "cvLQbCYRN-lV"
      }
    },
    {
      "cell_type": "code",
      "source": [
        "titanic_json = pd.read_json('https://github.com/YBIFoundation/Dataset/raw/main/Titanic.json')"
      ],
      "metadata": {
        "id": "VT46fOMAOBZy"
      },
      "execution_count": 15,
      "outputs": []
    },
    {
      "cell_type": "code",
      "source": [
        "titanic_json.head()"
      ],
      "metadata": {
        "id": "qhVTsrsAOw4A"
      },
      "execution_count": null,
      "outputs": []
    }
  ]
}